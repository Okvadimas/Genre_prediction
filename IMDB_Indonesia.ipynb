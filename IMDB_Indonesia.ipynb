{
  "nbformat": 4,
  "nbformat_minor": 0,
  "metadata": {
    "colab": {
      "name": "IMDB Indonesia.ipynb",
      "provenance": [],
      "collapsed_sections": []
    },
    "kernelspec": {
      "name": "python3",
      "display_name": "Python 3"
    }
  },
  "cells": [
    {
      "cell_type": "code",
      "metadata": {
        "id": "Ui2rnA7FwA5J",
        "colab_type": "code",
        "colab": {
          "base_uri": "https://localhost:8080/",
          "height": 122
        },
        "outputId": "624e3b4b-48a7-4c75-e2a5-e8a5f07d5a19"
      },
      "source": [
        "from google.colab import drive\n",
        "drive.mount('/content/drive')"
      ],
      "execution_count": null,
      "outputs": [
        {
          "output_type": "stream",
          "text": [
            "Go to this URL in a browser: https://accounts.google.com/o/oauth2/auth?client_id=947318989803-6bn6qk8qdgf4n4g3pfee6491hc0brc4i.apps.googleusercontent.com&redirect_uri=urn%3aietf%3awg%3aoauth%3a2.0%3aoob&response_type=code&scope=email%20https%3a%2f%2fwww.googleapis.com%2fauth%2fdocs.test%20https%3a%2f%2fwww.googleapis.com%2fauth%2fdrive%20https%3a%2f%2fwww.googleapis.com%2fauth%2fdrive.photos.readonly%20https%3a%2f%2fwww.googleapis.com%2fauth%2fpeopleapi.readonly\n",
            "\n",
            "Enter your authorization code:\n",
            "··········\n",
            "Mounted at /content/drive\n"
          ],
          "name": "stdout"
        }
      ]
    },
    {
      "cell_type": "code",
      "metadata": {
        "id": "9zj_9GxdwE8W",
        "colab_type": "code",
        "colab": {}
      },
      "source": [
        "import os\n",
        "\n",
        "os.environ[\"KAGGLE_CONFIG_DIR\"] = '/content/drive/My Drive/Kaggle'"
      ],
      "execution_count": null,
      "outputs": []
    },
    {
      "cell_type": "code",
      "metadata": {
        "id": "nrH3mCO45mUg",
        "colab_type": "code",
        "colab": {
          "base_uri": "https://localhost:8080/",
          "height": 34
        },
        "outputId": "5b5b00b0-c43a-4df7-c4bf-75a9a6a0fa32"
      },
      "source": [
        "%cd /content/drive/My\\ Drive/Kaggle"
      ],
      "execution_count": null,
      "outputs": [
        {
          "output_type": "stream",
          "text": [
            "/content/drive/My Drive/Kaggle\n"
          ],
          "name": "stdout"
        }
      ]
    },
    {
      "cell_type": "code",
      "metadata": {
        "id": "DSEJq1nh5qxJ",
        "colab_type": "code",
        "colab": {
          "base_uri": "https://localhost:8080/",
          "height": 68
        },
        "outputId": "b55d4842-57d0-47e2-978d-e47e6322a0c3"
      },
      "source": [
        "!kaggle datasets download -d antoniuscs/imdb-synopsis-indonesian-movies"
      ],
      "execution_count": null,
      "outputs": [
        {
          "output_type": "stream",
          "text": [
            "Downloading imdb-synopsis-indonesian-movies.zip to /content/drive/My Drive/Kaggle\n",
            "\r  0% 0.00/299k [00:00<?, ?B/s]\n",
            "\r100% 299k/299k [00:00<00:00, 19.8MB/s]\n"
          ],
          "name": "stdout"
        }
      ]
    },
    {
      "cell_type": "code",
      "metadata": {
        "id": "Z-hr7tgd5uyn",
        "colab_type": "code",
        "colab": {
          "base_uri": "https://localhost:8080/",
          "height": 51
        },
        "outputId": "6441c03b-11fb-4563-bab8-490cdebd3b04"
      },
      "source": [
        "# !unzip imdb-synopsis-indonesian-movies.zip"
      ],
      "execution_count": null,
      "outputs": [
        {
          "output_type": "stream",
          "text": [
            "Archive:  imdb-synopsis-indonesian-movies.zip\n",
            "  inflating: imdb_indonesian_movies_2.csv  \n"
          ],
          "name": "stdout"
        }
      ]
    },
    {
      "cell_type": "code",
      "metadata": {
        "id": "0h-34kpc5466",
        "colab_type": "code",
        "colab": {
          "base_uri": "https://localhost:8080/",
          "height": 419
        },
        "outputId": "eb276ba9-f9e2-40f0-872b-dd06608a3d1a"
      },
      "source": [
        "import pandas as pd\n",
        "\n",
        "dataset = pd.read_csv('imdb_indonesian_movies_2.csv')\n",
        "dataset"
      ],
      "execution_count": null,
      "outputs": [
        {
          "output_type": "execute_result",
          "data": {
            "text/html": [
              "<div>\n",
              "<style scoped>\n",
              "    .dataframe tbody tr th:only-of-type {\n",
              "        vertical-align: middle;\n",
              "    }\n",
              "\n",
              "    .dataframe tbody tr th {\n",
              "        vertical-align: top;\n",
              "    }\n",
              "\n",
              "    .dataframe thead th {\n",
              "        text-align: right;\n",
              "    }\n",
              "</style>\n",
              "<table border=\"1\" class=\"dataframe\">\n",
              "  <thead>\n",
              "    <tr style=\"text-align: right;\">\n",
              "      <th></th>\n",
              "      <th>judul_film</th>\n",
              "      <th>ringkasan_sinopsis</th>\n",
              "      <th>genre</th>\n",
              "    </tr>\n",
              "  </thead>\n",
              "  <tbody>\n",
              "    <tr>\n",
              "      <th>0</th>\n",
              "      <td>Sunan Kalijaga</td>\n",
              "      <td>Raden Mas Said putra sulung Tumenggung Wilarik...</td>\n",
              "      <td>Drama</td>\n",
              "    </tr>\n",
              "    <tr>\n",
              "      <th>1</th>\n",
              "      <td>Gie</td>\n",
              "      <td>Soe Hok Gie adalah seorang aktivis yang hidup ...</td>\n",
              "      <td>Drama</td>\n",
              "    </tr>\n",
              "    <tr>\n",
              "      <th>2</th>\n",
              "      <td>Guru Bangsa Tjokroaminoto</td>\n",
              "      <td>Guru Bangsa Tjokroaminoto menceritakan tentang...</td>\n",
              "      <td>Drama</td>\n",
              "    </tr>\n",
              "    <tr>\n",
              "      <th>3</th>\n",
              "      <td>POL Movie</td>\n",
              "      <td>POL menceritakan kisah hidup yang luar biasa d...</td>\n",
              "      <td>Drama</td>\n",
              "    </tr>\n",
              "    <tr>\n",
              "      <th>4</th>\n",
              "      <td>Sang pencerah</td>\n",
              "      <td>Perjalanan pahlawan Indonesia KH Ahmad Dahlan ...</td>\n",
              "      <td>Drama</td>\n",
              "    </tr>\n",
              "    <tr>\n",
              "      <th>...</th>\n",
              "      <td>...</td>\n",
              "      <td>...</td>\n",
              "      <td>...</td>\n",
              "    </tr>\n",
              "    <tr>\n",
              "      <th>1000</th>\n",
              "      <td>Winter in Tokyo</td>\n",
              "      <td>Winter in Tokyo berpusat pada kehidupan Ishida...</td>\n",
              "      <td>Romantis</td>\n",
              "    </tr>\n",
              "    <tr>\n",
              "      <th>1001</th>\n",
              "      <td>Petualang Cinta</td>\n",
              "      <td>Markonah melarikan diri ke Jakarta karena akan...</td>\n",
              "      <td>Romantis</td>\n",
              "    </tr>\n",
              "    <tr>\n",
              "      <th>1002</th>\n",
              "      <td>Last Night (III)</td>\n",
              "      <td>Tempat aking lebih dari 36 jam, Last Night ada...</td>\n",
              "      <td>Romantis</td>\n",
              "    </tr>\n",
              "    <tr>\n",
              "      <th>1003</th>\n",
              "      <td>Path of Light</td>\n",
              "      <td>Proyek baru ini adalah tentang seorang lelaki ...</td>\n",
              "      <td>Romantis</td>\n",
              "    </tr>\n",
              "    <tr>\n",
              "      <th>1004</th>\n",
              "      <td>Kulihat cinta di matanya</td>\n",
              "      <td>Atika (Meriam Bellina) mantan penyanyi tenar, ...</td>\n",
              "      <td>Romantis</td>\n",
              "    </tr>\n",
              "  </tbody>\n",
              "</table>\n",
              "<p>1005 rows × 3 columns</p>\n",
              "</div>"
            ],
            "text/plain": [
              "                     judul_film  ...     genre\n",
              "0                Sunan Kalijaga  ...     Drama\n",
              "1                           Gie  ...     Drama\n",
              "2     Guru Bangsa Tjokroaminoto  ...     Drama\n",
              "3                     POL Movie  ...     Drama\n",
              "4                 Sang pencerah  ...     Drama\n",
              "...                         ...  ...       ...\n",
              "1000            Winter in Tokyo  ...  Romantis\n",
              "1001            Petualang Cinta  ...  Romantis\n",
              "1002           Last Night (III)  ...  Romantis\n",
              "1003              Path of Light  ...  Romantis\n",
              "1004   Kulihat cinta di matanya  ...  Romantis\n",
              "\n",
              "[1005 rows x 3 columns]"
            ]
          },
          "metadata": {
            "tags": []
          },
          "execution_count": 8
        }
      ]
    },
    {
      "cell_type": "code",
      "metadata": {
        "id": "OlFNL3lx6GBf",
        "colab_type": "code",
        "colab": {
          "base_uri": "https://localhost:8080/",
          "height": 419
        },
        "outputId": "09d459a4-e1d6-4865-d54b-9c530b18bf2f"
      },
      "source": [
        "dataset = dataset.drop(columns=[\"judul_film\"], axis=1)\n",
        "dataset"
      ],
      "execution_count": null,
      "outputs": [
        {
          "output_type": "execute_result",
          "data": {
            "text/html": [
              "<div>\n",
              "<style scoped>\n",
              "    .dataframe tbody tr th:only-of-type {\n",
              "        vertical-align: middle;\n",
              "    }\n",
              "\n",
              "    .dataframe tbody tr th {\n",
              "        vertical-align: top;\n",
              "    }\n",
              "\n",
              "    .dataframe thead th {\n",
              "        text-align: right;\n",
              "    }\n",
              "</style>\n",
              "<table border=\"1\" class=\"dataframe\">\n",
              "  <thead>\n",
              "    <tr style=\"text-align: right;\">\n",
              "      <th></th>\n",
              "      <th>ringkasan_sinopsis</th>\n",
              "      <th>genre</th>\n",
              "    </tr>\n",
              "  </thead>\n",
              "  <tbody>\n",
              "    <tr>\n",
              "      <th>0</th>\n",
              "      <td>Raden Mas Said putra sulung Tumenggung Wilarik...</td>\n",
              "      <td>Drama</td>\n",
              "    </tr>\n",
              "    <tr>\n",
              "      <th>1</th>\n",
              "      <td>Soe Hok Gie adalah seorang aktivis yang hidup ...</td>\n",
              "      <td>Drama</td>\n",
              "    </tr>\n",
              "    <tr>\n",
              "      <th>2</th>\n",
              "      <td>Guru Bangsa Tjokroaminoto menceritakan tentang...</td>\n",
              "      <td>Drama</td>\n",
              "    </tr>\n",
              "    <tr>\n",
              "      <th>3</th>\n",
              "      <td>POL menceritakan kisah hidup yang luar biasa d...</td>\n",
              "      <td>Drama</td>\n",
              "    </tr>\n",
              "    <tr>\n",
              "      <th>4</th>\n",
              "      <td>Perjalanan pahlawan Indonesia KH Ahmad Dahlan ...</td>\n",
              "      <td>Drama</td>\n",
              "    </tr>\n",
              "    <tr>\n",
              "      <th>...</th>\n",
              "      <td>...</td>\n",
              "      <td>...</td>\n",
              "    </tr>\n",
              "    <tr>\n",
              "      <th>1000</th>\n",
              "      <td>Winter in Tokyo berpusat pada kehidupan Ishida...</td>\n",
              "      <td>Romantis</td>\n",
              "    </tr>\n",
              "    <tr>\n",
              "      <th>1001</th>\n",
              "      <td>Markonah melarikan diri ke Jakarta karena akan...</td>\n",
              "      <td>Romantis</td>\n",
              "    </tr>\n",
              "    <tr>\n",
              "      <th>1002</th>\n",
              "      <td>Tempat aking lebih dari 36 jam, Last Night ada...</td>\n",
              "      <td>Romantis</td>\n",
              "    </tr>\n",
              "    <tr>\n",
              "      <th>1003</th>\n",
              "      <td>Proyek baru ini adalah tentang seorang lelaki ...</td>\n",
              "      <td>Romantis</td>\n",
              "    </tr>\n",
              "    <tr>\n",
              "      <th>1004</th>\n",
              "      <td>Atika (Meriam Bellina) mantan penyanyi tenar, ...</td>\n",
              "      <td>Romantis</td>\n",
              "    </tr>\n",
              "  </tbody>\n",
              "</table>\n",
              "<p>1005 rows × 2 columns</p>\n",
              "</div>"
            ],
            "text/plain": [
              "                                     ringkasan_sinopsis     genre\n",
              "0     Raden Mas Said putra sulung Tumenggung Wilarik...     Drama\n",
              "1     Soe Hok Gie adalah seorang aktivis yang hidup ...     Drama\n",
              "2     Guru Bangsa Tjokroaminoto menceritakan tentang...     Drama\n",
              "3     POL menceritakan kisah hidup yang luar biasa d...     Drama\n",
              "4     Perjalanan pahlawan Indonesia KH Ahmad Dahlan ...     Drama\n",
              "...                                                 ...       ...\n",
              "1000  Winter in Tokyo berpusat pada kehidupan Ishida...  Romantis\n",
              "1001  Markonah melarikan diri ke Jakarta karena akan...  Romantis\n",
              "1002  Tempat aking lebih dari 36 jam, Last Night ada...  Romantis\n",
              "1003  Proyek baru ini adalah tentang seorang lelaki ...  Romantis\n",
              "1004  Atika (Meriam Bellina) mantan penyanyi tenar, ...  Romantis\n",
              "\n",
              "[1005 rows x 2 columns]"
            ]
          },
          "metadata": {
            "tags": []
          },
          "execution_count": 9
        }
      ]
    },
    {
      "cell_type": "code",
      "metadata": {
        "id": "X4Pq_qLp6TbO",
        "colab_type": "code",
        "colab": {
          "base_uri": "https://localhost:8080/",
          "height": 419
        },
        "outputId": "91df080d-564d-49d3-8e95-cd3111de8d3a"
      },
      "source": [
        "dummies = pd.get_dummies(dataset.genre)\n",
        "dataset = pd.concat([dataset, dummies], axis=1)\n",
        "dataset = dataset.drop(columns=[\"genre\"], axis=1)\n",
        "dataset"
      ],
      "execution_count": null,
      "outputs": [
        {
          "output_type": "execute_result",
          "data": {
            "text/html": [
              "<div>\n",
              "<style scoped>\n",
              "    .dataframe tbody tr th:only-of-type {\n",
              "        vertical-align: middle;\n",
              "    }\n",
              "\n",
              "    .dataframe tbody tr th {\n",
              "        vertical-align: top;\n",
              "    }\n",
              "\n",
              "    .dataframe thead th {\n",
              "        text-align: right;\n",
              "    }\n",
              "</style>\n",
              "<table border=\"1\" class=\"dataframe\">\n",
              "  <thead>\n",
              "    <tr style=\"text-align: right;\">\n",
              "      <th></th>\n",
              "      <th>ringkasan_sinopsis</th>\n",
              "      <th>Drama</th>\n",
              "      <th>Horor</th>\n",
              "      <th>Komedi</th>\n",
              "      <th>Laga</th>\n",
              "      <th>Romantis</th>\n",
              "    </tr>\n",
              "  </thead>\n",
              "  <tbody>\n",
              "    <tr>\n",
              "      <th>0</th>\n",
              "      <td>Raden Mas Said putra sulung Tumenggung Wilarik...</td>\n",
              "      <td>1</td>\n",
              "      <td>0</td>\n",
              "      <td>0</td>\n",
              "      <td>0</td>\n",
              "      <td>0</td>\n",
              "    </tr>\n",
              "    <tr>\n",
              "      <th>1</th>\n",
              "      <td>Soe Hok Gie adalah seorang aktivis yang hidup ...</td>\n",
              "      <td>1</td>\n",
              "      <td>0</td>\n",
              "      <td>0</td>\n",
              "      <td>0</td>\n",
              "      <td>0</td>\n",
              "    </tr>\n",
              "    <tr>\n",
              "      <th>2</th>\n",
              "      <td>Guru Bangsa Tjokroaminoto menceritakan tentang...</td>\n",
              "      <td>1</td>\n",
              "      <td>0</td>\n",
              "      <td>0</td>\n",
              "      <td>0</td>\n",
              "      <td>0</td>\n",
              "    </tr>\n",
              "    <tr>\n",
              "      <th>3</th>\n",
              "      <td>POL menceritakan kisah hidup yang luar biasa d...</td>\n",
              "      <td>1</td>\n",
              "      <td>0</td>\n",
              "      <td>0</td>\n",
              "      <td>0</td>\n",
              "      <td>0</td>\n",
              "    </tr>\n",
              "    <tr>\n",
              "      <th>4</th>\n",
              "      <td>Perjalanan pahlawan Indonesia KH Ahmad Dahlan ...</td>\n",
              "      <td>1</td>\n",
              "      <td>0</td>\n",
              "      <td>0</td>\n",
              "      <td>0</td>\n",
              "      <td>0</td>\n",
              "    </tr>\n",
              "    <tr>\n",
              "      <th>...</th>\n",
              "      <td>...</td>\n",
              "      <td>...</td>\n",
              "      <td>...</td>\n",
              "      <td>...</td>\n",
              "      <td>...</td>\n",
              "      <td>...</td>\n",
              "    </tr>\n",
              "    <tr>\n",
              "      <th>1000</th>\n",
              "      <td>Winter in Tokyo berpusat pada kehidupan Ishida...</td>\n",
              "      <td>0</td>\n",
              "      <td>0</td>\n",
              "      <td>0</td>\n",
              "      <td>0</td>\n",
              "      <td>1</td>\n",
              "    </tr>\n",
              "    <tr>\n",
              "      <th>1001</th>\n",
              "      <td>Markonah melarikan diri ke Jakarta karena akan...</td>\n",
              "      <td>0</td>\n",
              "      <td>0</td>\n",
              "      <td>0</td>\n",
              "      <td>0</td>\n",
              "      <td>1</td>\n",
              "    </tr>\n",
              "    <tr>\n",
              "      <th>1002</th>\n",
              "      <td>Tempat aking lebih dari 36 jam, Last Night ada...</td>\n",
              "      <td>0</td>\n",
              "      <td>0</td>\n",
              "      <td>0</td>\n",
              "      <td>0</td>\n",
              "      <td>1</td>\n",
              "    </tr>\n",
              "    <tr>\n",
              "      <th>1003</th>\n",
              "      <td>Proyek baru ini adalah tentang seorang lelaki ...</td>\n",
              "      <td>0</td>\n",
              "      <td>0</td>\n",
              "      <td>0</td>\n",
              "      <td>0</td>\n",
              "      <td>1</td>\n",
              "    </tr>\n",
              "    <tr>\n",
              "      <th>1004</th>\n",
              "      <td>Atika (Meriam Bellina) mantan penyanyi tenar, ...</td>\n",
              "      <td>0</td>\n",
              "      <td>0</td>\n",
              "      <td>0</td>\n",
              "      <td>0</td>\n",
              "      <td>1</td>\n",
              "    </tr>\n",
              "  </tbody>\n",
              "</table>\n",
              "<p>1005 rows × 6 columns</p>\n",
              "</div>"
            ],
            "text/plain": [
              "                                     ringkasan_sinopsis  Drama  ...  Laga  Romantis\n",
              "0     Raden Mas Said putra sulung Tumenggung Wilarik...      1  ...     0         0\n",
              "1     Soe Hok Gie adalah seorang aktivis yang hidup ...      1  ...     0         0\n",
              "2     Guru Bangsa Tjokroaminoto menceritakan tentang...      1  ...     0         0\n",
              "3     POL menceritakan kisah hidup yang luar biasa d...      1  ...     0         0\n",
              "4     Perjalanan pahlawan Indonesia KH Ahmad Dahlan ...      1  ...     0         0\n",
              "...                                                 ...    ...  ...   ...       ...\n",
              "1000  Winter in Tokyo berpusat pada kehidupan Ishida...      0  ...     0         1\n",
              "1001  Markonah melarikan diri ke Jakarta karena akan...      0  ...     0         1\n",
              "1002  Tempat aking lebih dari 36 jam, Last Night ada...      0  ...     0         1\n",
              "1003  Proyek baru ini adalah tentang seorang lelaki ...      0  ...     0         1\n",
              "1004  Atika (Meriam Bellina) mantan penyanyi tenar, ...      0  ...     0         1\n",
              "\n",
              "[1005 rows x 6 columns]"
            ]
          },
          "metadata": {
            "tags": []
          },
          "execution_count": 10
        }
      ]
    },
    {
      "cell_type": "code",
      "metadata": {
        "id": "d1EpK--87EFt",
        "colab_type": "code",
        "colab": {
          "base_uri": "https://localhost:8080/",
          "height": 419
        },
        "outputId": "0650e89d-c695-4580-8f6d-511703e7e4e3"
      },
      "source": [
        "X = dataset.ringkasan_sinopsis\n",
        "y = dataset.iloc[:, 1:]\n",
        "y"
      ],
      "execution_count": null,
      "outputs": [
        {
          "output_type": "execute_result",
          "data": {
            "text/html": [
              "<div>\n",
              "<style scoped>\n",
              "    .dataframe tbody tr th:only-of-type {\n",
              "        vertical-align: middle;\n",
              "    }\n",
              "\n",
              "    .dataframe tbody tr th {\n",
              "        vertical-align: top;\n",
              "    }\n",
              "\n",
              "    .dataframe thead th {\n",
              "        text-align: right;\n",
              "    }\n",
              "</style>\n",
              "<table border=\"1\" class=\"dataframe\">\n",
              "  <thead>\n",
              "    <tr style=\"text-align: right;\">\n",
              "      <th></th>\n",
              "      <th>Drama</th>\n",
              "      <th>Horor</th>\n",
              "      <th>Komedi</th>\n",
              "      <th>Laga</th>\n",
              "      <th>Romantis</th>\n",
              "    </tr>\n",
              "  </thead>\n",
              "  <tbody>\n",
              "    <tr>\n",
              "      <th>0</th>\n",
              "      <td>1</td>\n",
              "      <td>0</td>\n",
              "      <td>0</td>\n",
              "      <td>0</td>\n",
              "      <td>0</td>\n",
              "    </tr>\n",
              "    <tr>\n",
              "      <th>1</th>\n",
              "      <td>1</td>\n",
              "      <td>0</td>\n",
              "      <td>0</td>\n",
              "      <td>0</td>\n",
              "      <td>0</td>\n",
              "    </tr>\n",
              "    <tr>\n",
              "      <th>2</th>\n",
              "      <td>1</td>\n",
              "      <td>0</td>\n",
              "      <td>0</td>\n",
              "      <td>0</td>\n",
              "      <td>0</td>\n",
              "    </tr>\n",
              "    <tr>\n",
              "      <th>3</th>\n",
              "      <td>1</td>\n",
              "      <td>0</td>\n",
              "      <td>0</td>\n",
              "      <td>0</td>\n",
              "      <td>0</td>\n",
              "    </tr>\n",
              "    <tr>\n",
              "      <th>4</th>\n",
              "      <td>1</td>\n",
              "      <td>0</td>\n",
              "      <td>0</td>\n",
              "      <td>0</td>\n",
              "      <td>0</td>\n",
              "    </tr>\n",
              "    <tr>\n",
              "      <th>...</th>\n",
              "      <td>...</td>\n",
              "      <td>...</td>\n",
              "      <td>...</td>\n",
              "      <td>...</td>\n",
              "      <td>...</td>\n",
              "    </tr>\n",
              "    <tr>\n",
              "      <th>1000</th>\n",
              "      <td>0</td>\n",
              "      <td>0</td>\n",
              "      <td>0</td>\n",
              "      <td>0</td>\n",
              "      <td>1</td>\n",
              "    </tr>\n",
              "    <tr>\n",
              "      <th>1001</th>\n",
              "      <td>0</td>\n",
              "      <td>0</td>\n",
              "      <td>0</td>\n",
              "      <td>0</td>\n",
              "      <td>1</td>\n",
              "    </tr>\n",
              "    <tr>\n",
              "      <th>1002</th>\n",
              "      <td>0</td>\n",
              "      <td>0</td>\n",
              "      <td>0</td>\n",
              "      <td>0</td>\n",
              "      <td>1</td>\n",
              "    </tr>\n",
              "    <tr>\n",
              "      <th>1003</th>\n",
              "      <td>0</td>\n",
              "      <td>0</td>\n",
              "      <td>0</td>\n",
              "      <td>0</td>\n",
              "      <td>1</td>\n",
              "    </tr>\n",
              "    <tr>\n",
              "      <th>1004</th>\n",
              "      <td>0</td>\n",
              "      <td>0</td>\n",
              "      <td>0</td>\n",
              "      <td>0</td>\n",
              "      <td>1</td>\n",
              "    </tr>\n",
              "  </tbody>\n",
              "</table>\n",
              "<p>1005 rows × 5 columns</p>\n",
              "</div>"
            ],
            "text/plain": [
              "      Drama  Horor  Komedi  Laga  Romantis\n",
              "0         1      0       0     0         0\n",
              "1         1      0       0     0         0\n",
              "2         1      0       0     0         0\n",
              "3         1      0       0     0         0\n",
              "4         1      0       0     0         0\n",
              "...     ...    ...     ...   ...       ...\n",
              "1000      0      0       0     0         1\n",
              "1001      0      0       0     0         1\n",
              "1002      0      0       0     0         1\n",
              "1003      0      0       0     0         1\n",
              "1004      0      0       0     0         1\n",
              "\n",
              "[1005 rows x 5 columns]"
            ]
          },
          "metadata": {
            "tags": []
          },
          "execution_count": 11
        }
      ]
    },
    {
      "cell_type": "code",
      "metadata": {
        "id": "64QctZLa67eX",
        "colab_type": "code",
        "colab": {}
      },
      "source": [
        "from sklearn.model_selection import train_test_split\n",
        "\n",
        "X_train, X_test, y_train, y_test = train_test_split(X, y, random_state=10, test_size=0.2)"
      ],
      "execution_count": null,
      "outputs": []
    },
    {
      "cell_type": "code",
      "metadata": {
        "id": "10mNUbdednh0",
        "colab_type": "code",
        "colab": {}
      },
      "source": [
        "# X_train = X_train.values\n",
        "# X_test = X_test.values\n",
        "# y_train = y_train.values\n",
        "# y_test = y_test.values"
      ],
      "execution_count": null,
      "outputs": []
    },
    {
      "cell_type": "code",
      "metadata": {
        "id": "QnH_rA7o6jjY",
        "colab_type": "code",
        "colab": {}
      },
      "source": [
        "from tensorflow.keras.preprocessing.text import Tokenizer\n",
        "from tensorflow.keras.preprocessing.sequence import pad_sequences\n",
        "\n",
        "tokenizer = Tokenizer(num_words=5000, oov_token='x')\n",
        "tokenizer.fit_on_texts(X_train)\n",
        "tokenizer.fit_on_texts(X_test)\n",
        "\n",
        "sequence_train = tokenizer.texts_to_sequences(X_train)\n",
        "sequence_test = tokenizer.texts_to_sequences(X_test)\n",
        "\n",
        "pad_train = pad_sequences(sequence_train)\n",
        "pad_test = pad_sequences(sequence_test)"
      ],
      "execution_count": null,
      "outputs": []
    },
    {
      "cell_type": "code",
      "metadata": {
        "id": "Q3hAcTej7yE9",
        "colab_type": "code",
        "colab": {}
      },
      "source": [
        "import tensorflow as tf\n",
        "\n",
        "model = tf.keras.Sequential([\n",
        "    tf.keras.layers.Embedding(5000, 16),\n",
        "    tf.keras.layers.LSTM(64),\n",
        "    tf.keras.layers.Dense(512, activation='relu'),\n",
        "    tf.keras.layers.Dense(5, activation='softmax')\n",
        "])"
      ],
      "execution_count": null,
      "outputs": []
    },
    {
      "cell_type": "code",
      "metadata": {
        "id": "bexI_nCinovS",
        "colab_type": "code",
        "colab": {
          "base_uri": "https://localhost:8080/",
          "height": 289
        },
        "outputId": "54a3e1b1-9d90-40ca-a30f-eaabbb100942"
      },
      "source": [
        "model.summary()"
      ],
      "execution_count": null,
      "outputs": [
        {
          "output_type": "stream",
          "text": [
            "Model: \"sequential\"\n",
            "_________________________________________________________________\n",
            "Layer (type)                 Output Shape              Param #   \n",
            "=================================================================\n",
            "embedding (Embedding)        (None, None, 16)          80000     \n",
            "_________________________________________________________________\n",
            "lstm (LSTM)                  (None, 64)                20736     \n",
            "_________________________________________________________________\n",
            "dense (Dense)                (None, 512)               33280     \n",
            "_________________________________________________________________\n",
            "dense_1 (Dense)              (None, 5)                 2565      \n",
            "=================================================================\n",
            "Total params: 136,581\n",
            "Trainable params: 136,581\n",
            "Non-trainable params: 0\n",
            "_________________________________________________________________\n"
          ],
          "name": "stdout"
        }
      ]
    },
    {
      "cell_type": "code",
      "metadata": {
        "id": "Z0WWa68S8hjy",
        "colab_type": "code",
        "colab": {}
      },
      "source": [
        "sgd = tf.keras.optimizers.SGD()\n",
        "\n",
        "model.compile(optimizer='adam', loss='categorical_crossentropy', metrics=[\"accuracy\"])"
      ],
      "execution_count": null,
      "outputs": []
    },
    {
      "cell_type": "code",
      "metadata": {
        "id": "JeiJexEvYs0v",
        "colab_type": "code",
        "colab": {}
      },
      "source": [
        "class myCallback(tf.keras.callbacks.Callback):\n",
        "    def on_epoch_end(self, epoch, logs={}):\n",
        "        if(logs.get(\"accuracy\")>0.99):\n",
        "            print(\" Reached 99% Accuracy\")\n",
        "            self.model.stop_training = True\n",
        "            \n",
        "callbacks = myCallback()"
      ],
      "execution_count": null,
      "outputs": []
    },
    {
      "cell_type": "code",
      "metadata": {
        "id": "HLuzyI32ZCmH",
        "colab_type": "code",
        "colab": {
          "base_uri": "https://localhost:8080/",
          "height": 238
        },
        "outputId": "359b38ab-3326-4fe4-922c-2464d2f0e3ad"
      },
      "source": [
        "from time import time\n",
        "\n",
        "t1 = time()\n",
        "history = model.fit(pad_train, y_train, epochs=30, validation_data=(pad_test, y_test), callbacks=[callbacks])"
      ],
      "execution_count": null,
      "outputs": [
        {
          "output_type": "stream",
          "text": [
            "Epoch 1/30\n",
            "26/26 [==============================] - 29s 1s/step - loss: 1.0745 - accuracy: 0.5522 - val_loss: 2.1056 - val_accuracy: 0.2189\n",
            "Epoch 2/30\n",
            "26/26 [==============================] - 29s 1s/step - loss: 0.7127 - accuracy: 0.7488 - val_loss: 2.3376 - val_accuracy: 0.2289\n",
            "Epoch 3/30\n",
            "26/26 [==============================] - 30s 1s/step - loss: 0.4816 - accuracy: 0.8495 - val_loss: 2.6830 - val_accuracy: 0.2040\n",
            "Epoch 4/30\n",
            "26/26 [==============================] - 31s 1s/step - loss: 0.2192 - accuracy: 0.9465 - val_loss: 3.5207 - val_accuracy: 0.2289\n",
            "Epoch 5/30\n",
            "26/26 [==============================] - 30s 1s/step - loss: 0.0870 - accuracy: 0.9838 - val_loss: 3.7374 - val_accuracy: 0.2388\n",
            "Epoch 6/30\n",
            "26/26 [==============================] - ETA: 0s - loss: 0.0412 - accuracy: 0.9938 Reached 99% Accuracy\n",
            "26/26 [==============================] - 30s 1s/step - loss: 0.0412 - accuracy: 0.9938 - val_loss: 4.3042 - val_accuracy: 0.2289\n"
          ],
          "name": "stdout"
        }
      ]
    },
    {
      "cell_type": "code",
      "metadata": {
        "id": "YOl1zI-bZWKc",
        "colab_type": "code",
        "colab": {
          "base_uri": "https://localhost:8080/",
          "height": 34
        },
        "outputId": "2d49878c-82c3-4fa6-bd61-2ba87345b585"
      },
      "source": [
        "print(f\"Training time: {round(time()-t1)} Sec\")"
      ],
      "execution_count": null,
      "outputs": [
        {
          "output_type": "stream",
          "text": [
            "Training time: 186 Sec\n"
          ],
          "name": "stdout"
        }
      ]
    },
    {
      "cell_type": "code",
      "metadata": {
        "id": "y5PQI7STZe_C",
        "colab_type": "code",
        "colab": {}
      },
      "source": [
        ""
      ],
      "execution_count": null,
      "outputs": []
    }
  ]
}